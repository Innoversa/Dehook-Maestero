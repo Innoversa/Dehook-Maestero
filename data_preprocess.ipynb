{
 "cells": [
  {
   "cell_type": "markdown",
   "metadata": {},
   "source": [
    "## Playground for developing data preprocessing pipeline"
   ]
  },
  {
   "attachments": {},
   "cell_type": "markdown",
   "metadata": {},
   "source": [
    "### Examine the personal dataset with Pandas\n",
    "\n",
    "`personal_fraud_email.csv` contains three columns:\n",
    "- `Sender`: String of the sender's name and email address\n",
    "- `Raw`: String of the raw email content\n",
    "- `Fraud`: Boolean of whether the email is a fraud"
   ]
  },
  {
   "cell_type": "code",
   "execution_count": 2,
   "metadata": {},
   "outputs": [],
   "source": [
    "import pandas as pd\n",
    "import numpy as np\n",
    "import matplotlib.pyplot as plt\n",
    "\n",
    "folder_path = \"fraud_emails\"\n",
    "csv_path = \"personal_fraud_email.csv\""
   ]
  },
  {
   "cell_type": "code",
   "execution_count": 3,
   "metadata": {},
   "outputs": [],
   "source": [
    "p_df = pd.read_csv(csv_path)"
   ]
  },
  {
   "cell_type": "code",
   "execution_count": 4,
   "metadata": {},
   "outputs": [
    {
     "data": {
      "text/html": [
       "<div>\n",
       "<style scoped>\n",
       "    .dataframe tbody tr th:only-of-type {\n",
       "        vertical-align: middle;\n",
       "    }\n",
       "\n",
       "    .dataframe tbody tr th {\n",
       "        vertical-align: top;\n",
       "    }\n",
       "\n",
       "    .dataframe thead th {\n",
       "        text-align: right;\n",
       "    }\n",
       "</style>\n",
       "<table border=\"1\" class=\"dataframe\">\n",
       "  <thead>\n",
       "    <tr style=\"text-align: right;\">\n",
       "      <th></th>\n",
       "      <th>Sender</th>\n",
       "      <th>Raw</th>\n",
       "      <th>Fraud</th>\n",
       "    </tr>\n",
       "  </thead>\n",
       "  <tbody>\n",
       "    <tr>\n",
       "      <th>0</th>\n",
       "      <td>\"ABC Shark Tank\" &lt;A@gaobie.fathetic.com&gt;</td>\n",
       "      <td>Received: from 10.217.135.43\\n by atlas108.fre...</td>\n",
       "      <td>1</td>\n",
       "    </tr>\n",
       "    <tr>\n",
       "      <th>1</th>\n",
       "      <td>\"ABC Shark Tank\" &lt;A@herz.fathetic.com&gt;</td>\n",
       "      <td>Received: from 127.0.0.1\\n by atlas-production...</td>\n",
       "      <td>1</td>\n",
       "    </tr>\n",
       "    <tr>\n",
       "      <th>2</th>\n",
       "      <td>\"ABC Shark Tank\" &lt;A@suipo.gangoulionectomy.com&gt;</td>\n",
       "      <td>Received: from 10.196.241.214\\n by atlas302.fr...</td>\n",
       "      <td>1</td>\n",
       "    </tr>\n",
       "    <tr>\n",
       "      <th>3</th>\n",
       "      <td>\"%% Nicknguyen3 Camplejeunesuit %%\" &lt;utjnwaDhM...</td>\n",
       "      <td>Received: from 127.0.0.1\\n by atlas-production...</td>\n",
       "      <td>1</td>\n",
       "    </tr>\n",
       "    <tr>\n",
       "      <th>4</th>\n",
       "      <td>\"PROGRESSIVE\" &lt;A@kudoke.iguanopy.com&gt;</td>\n",
       "      <td>Received: from 10.197.37.9\\n by atlas306.free....</td>\n",
       "      <td>1</td>\n",
       "    </tr>\n",
       "  </tbody>\n",
       "</table>\n",
       "</div>"
      ],
      "text/plain": [
       "                                              Sender  \\\n",
       "0           \"ABC Shark Tank\" <A@gaobie.fathetic.com>   \n",
       "1             \"ABC Shark Tank\" <A@herz.fathetic.com>   \n",
       "2    \"ABC Shark Tank\" <A@suipo.gangoulionectomy.com>   \n",
       "3  \"%% Nicknguyen3 Camplejeunesuit %%\" <utjnwaDhM...   \n",
       "4              \"PROGRESSIVE\" <A@kudoke.iguanopy.com>   \n",
       "\n",
       "                                                 Raw  Fraud  \n",
       "0  Received: from 10.217.135.43\\n by atlas108.fre...      1  \n",
       "1  Received: from 127.0.0.1\\n by atlas-production...      1  \n",
       "2  Received: from 10.196.241.214\\n by atlas302.fr...      1  \n",
       "3  Received: from 127.0.0.1\\n by atlas-production...      1  \n",
       "4  Received: from 10.197.37.9\\n by atlas306.free....      1  "
      ]
     },
     "execution_count": 4,
     "metadata": {},
     "output_type": "execute_result"
    }
   ],
   "source": [
    "p_df.head()"
   ]
  },
  {
   "cell_type": "code",
   "execution_count": 5,
   "metadata": {},
   "outputs": [
    {
     "data": {
      "text/plain": [
       "'Received: from 10.217.135.43\\n by atlas108.free.mail.ne1.yahoo.com with HTTPS; Fri, 23 Sep 2022 20:36:13 +0000\\nReceived: from 81.95.5.156 (EHLO gaobie.fathetic.com)\\n by 10.217.135.43 with SMTP;\\n Fri, 23 Sep 2022 20:36:13 +0000\\nFrom: \"ABC Shark Tank\" <A@gaobie.fathetic.com>\\nTo: <nicknguyen3@yahoo.com>\\nSubject: #1 Weight Loss Supplement ever\\nDate: Fri, 23 Sep 2022 15:36:13 -0500\\nMessage-ID: <724141433_848235704_895257853@gaobie.fathetic.com>\\nMIME-Version: 1.0\\nContent-Type: multipart/alternative;\\n\\tboundary=\"----=_NextPart_000_0AF5_01D8D2AF.71BEF780\"\\nX-Mailer: Microsoft Outlook 16.0\\nX-Originating-Ip: [81.95.5.156]\\nX-Originating-Ip: 81.95.5.156\\nAuthentication-Results: atlas108.free.mail.ne1.yahoo.com;\\n dkim=unknown;\\n spf=pass smtp.mailfrom=gaobie.fathetic.com;\\n dmarc=unknown header.from=gaobie.fathetic.com;\\nX-Apparently-To: nicknguyen3@yahoo.com; Fri, 23 Sep 2022 20:36:14 +0000\\nX-YMailISG: FDq_T_4WLDszG_9ocF2vWzkKzKZoMDdJEJDLnUIDgjBjN48W\\n jTYYWaWPjVmt1I.ylZ1R.b3aqC8rV2ij3F1Mdds5xP1AeyYOmS1vGg87LP0N\\n ZxZC8NX5Ga7g6GtC.dvFJ7tVzw7M0TjU0IBDTpAgndZUrOLwqlBIPGG5RXmG\\n J1uZUtuqEO5_HYqIDB47vDIOsARY4vtVGImffFqJFRJqM3S75qwcPSBcgZJz\\n _Vq22d3y0SvybmrOmH2ke27DLyPEqivFpU2xJMJJzlT0A_kNlw0EmLr4Trhc\\n u9qMQJd7BeV12TIspllYU5RxE5F6Cv22BwvIu3h8IPkXbm8gC5ZkqlMr7hwK\\n wGnJYcJ4RC_38Q.br.4Bs1sw.pbAtqarU8ZJEE6WuiBpozWEJ.Am1ezCz9Lg\\n o_v4T3TmWFIcV0YX5aD2VdlT9nbYeV3HWRNngwaMUyh55rIpzLl.adlEDCTT\\n yM2.Z4RMSX1c7rIoQQTy6IYnX_Pe3f3yLO4p79lmlFz0jnIVETN6dSUK88J_\\n FNbykLfQY5LhqPh8yBxJcdwOX9462f1dM55gWsWkYFOwUTcCJfx7DgppTKSw\\n s3P2u6wOkjeHxz6uCrQ1dvaJA4oCbtLtljoDZXVnTU1giGlC.1AP5EUqyAaS\\n A0lcPtFI2knmE7x7cdemiXMAXQlubRi24_h5c1ETbKvHBMhFQE4iKDA9jMyB\\n HJHKCzrKk3JnZ6guuiuHSyLaZYHMX2rWUd_RnQ_ikHAhPv3ZTnX_JzCAv2LZ\\n wHv773fW4PtJ8kuPkrybZdneOtsKhkuCANyU4u6ItKIQGhzZHH.XjgXwRA3B\\n x1B._6F1Ykx6wu1_KCPikNl5Xdpqtd7IF4xUOMc8vgglxfsXq0Oh4.x4CJ7K\\n mgTqrdb3AM5Gw19i_.kslBXr6tX1l03g3OvpmbpIIln8W7A1UgLsXVylrczb\\n p6OF\\n\\trKCMsdymV1W5Xp8IuQ.h7qti8mfjUzTS.dqqAxWcLsWg5_P10X.Iamuq\\n ms._3VSlFG75ZoMd_tGxI3GayJg35nNlrnND_q4Ae2O3yHW0mcS3WzhtOmCJ\\n EvcZiF81n0Pjm2qT1HeF4A0I5xuVvPrJOPy4Z8iU_yTPHPncjM1eLyU8zMXN\\n vFUsdRREjzkHe5UPdQrZcQY4x6e896hbQC8lu6DtjjJ4H_2QWet_t4j_9jEX\\n 7Ufv_RwO0Q--\\nThread-Index: AQG4L7q7Lrr/mtPeMSRR2n2N8gzSyg==\\nX-OlkEid: 00000000C845D6B803DDF243A071803957DEFC26070034AD76187591974DBF6C4F76951C873A01000100000000003C926B4CE2E4194EBF40FC36E06EB2760000000068EF00003AF73326F97A6E4A8822113B6BAD5949\\nContent-Length: 2611\\n\\nThis is a multipart message in MIME format.\\n\\n------=_NextPart_000_0AF5_01D8D2AF.71BEF780\\nContent-Type: text/plain;\\n\\tcharset=\"us-ascii\"\\nContent-Transfer-Encoding: 7bit\\n\\n \\n<http://efferench.com/sssswcirect.html?od=1syr632e13acce298_vl_Active16vl_\\n1481.5dopn4.O0000rgepb01kno021_xf1448.gepb0MDNxMzlnLTE4bHUxY3M0a1MfO> \\n\\n\\n\\nShark Tank Weight Loss\\n\\n\\nNo Diet or Exercise AND Still Lose Weight \\n\\n\\n\\n#1 Weight Loss Supplement ever\\n\\n\\n\\nTry KETO Today!\\n\\n\\n\\n  <http://efferench.com/39/231/99917/MDeGbndjMx.jpg> \\n\\n \\n<http://efferench.com/sssswcirect.html?od=8syr632e13acce298_vl_Active16vl_\\n1481.5dopn4.O0000rgepb01kno021_xf1448.gepb0MDNxMzlnLTE4bHUxY3M0r5djf> \\n\\n\\n\\n------=_NextPart_000_0AF5_01D8D2AF.71BEF780\\nContent-Type: text/html;\\n\\tcharset=\"us-ascii\"\\nContent-Transfer-Encoding: quoted-printable\\n\\n<html>\\n<body>\\n\\t<center>\\n\\t\\t<a =\\nhref=3D\"http://efferench.com/sssswcirect.html?od=3D1syr632e13acce298_vl_A=\\nctive16vl_1481.5dopn4.O0000rgepb01kno021_xf1448.gepb0MDNxMzlnLTE4bHUxY3M0=\\na1MfO\" >\\n\\t\\t\\t\\t\\t\\t<h2><center>\\n<style>A {text-decoration: none;} </style>\\n<a href=3D\"\">\\n<h1 style=3D\"font-family: Segoe UI;font-weight: 100;color: =\\n#000;font-size: 35px;text-decoration: underline;\">\\nShark Tank Weight Loss</h1><h1 style=3D\"font: 59px Impact, Charcoal, =\\nsans-serif;color: #b9017a;margin: auto;\">\\nNo Diet or Exercise AND Still Lose Weight\\n <br>\\n <span style=3D\"color: #003e69;\">\\n </span>\\n</h1>\\n<h1 style=3D\"font-family: Segoe UI;font-size: 24px;margin: auto;color: =\\n#000;\">\\n#1 Weight Loss Supplement ever</h1>\\n<br>\\n<h1 style=3D\"font-family: calibri;color: #FFF;background-color: =\\n#b9017a;width: 300px;border-radius: 4px;border-bottom: 3px solid =\\n#6888B1;margin: auto;\">\\nTry KETO Today!</h1></div></a>\\n<br></h2>\\n\\t\\t</a>\\n\\t\\t<br />\\n\\t\\t<img src=3D\"http://efferench.com/39/231/99917/MDeGbndjMx.jpg\" =\\nheight=3D\"768\" width=3D\"725\" useMap=3D\"#Nzkf\" border=3D\"0\" >\\n\\t\\t<map name=3D\"Nzkf\"><br />\\n\\t\\t\\t<area shape=3D\"rect\" coords=3D\"0, 0, 725, 768\" =\\nhref=3D\"http://efferench.com/sssswcirect.html?od=3D1syr632e13acce298_vl_A=\\nctive16vl_1481.5dopn4.O0000rgepb01kno021_xf1448.gepb0MDNxMzlnLTE4bHUxY3M0=\\na1MfO\" >\\n\\t\\t</map>\\n\\t\\t<br />\\n\\t\\t<img =\\nsrc=3D\"http://efferench.com/sssswcirect.html?od=3D8syr632e13acce298_vl_Ac=\\ntive16vl_1481.5dopn4.O0000rgepb01kno021_xf1448.gepb0MDNxMzlnLTE4bHUxY3M0r=\\n5djf\" usemap=3D\"#MI9S\" border=3D\"0\" >\\n\\t\\t<map name=3D\"MI9S\">\\n\\t\\t\\t<area shape=3D\"rect\" coords=3D\"082,27,428,93\" =\\nhref=3D\"http://efferench.com/sssswcirect.html?od=3D1syr632e13acce298t0t_o=\\nutvl_Active16.5dopn4.O0000rgepb01kno021_xf1448.gepb0MDNxMzlnLTE4bHUxY3M0m=\\n4NPa\" >\\n\\t\\t</map>\\n\\t\\t<br />\\n\\t</center>\\n</body>\\n</html>\\n\\n------=_NextPart_000_0AF5_01D8D2AF.71BEF780--\\n'"
      ]
     },
     "execution_count": 5,
     "metadata": {},
     "output_type": "execute_result"
    }
   ],
   "source": [
    "p_df['Raw'][0]"
   ]
  },
  {
   "attachments": {},
   "cell_type": "markdown",
   "metadata": {},
   "source": [
    "### Examine the Kaggle Dataset\n",
    "\n",
    "The `kaggle_fraud_email.csv` contains the two columns of emails collected from 1998 - 2007: \n",
    "- `Text`: String of the raw email content\n",
    "- `Class`: Boolean of whether the email is a fraud"
   ]
  },
  {
   "cell_type": "code",
   "execution_count": 6,
   "metadata": {},
   "outputs": [],
   "source": [
    "import pandas as pd\n",
    "import numpy as np\n",
    "import matplotlib.pyplot as plt\n",
    "\n",
    "kaggle_path = \"kaggle_fraud_email.csv\""
   ]
  },
  {
   "cell_type": "code",
   "execution_count": 7,
   "metadata": {},
   "outputs": [
    {
     "data": {
      "text/html": [
       "<div>\n",
       "<style scoped>\n",
       "    .dataframe tbody tr th:only-of-type {\n",
       "        vertical-align: middle;\n",
       "    }\n",
       "\n",
       "    .dataframe tbody tr th {\n",
       "        vertical-align: top;\n",
       "    }\n",
       "\n",
       "    .dataframe thead th {\n",
       "        text-align: right;\n",
       "    }\n",
       "</style>\n",
       "<table border=\"1\" class=\"dataframe\">\n",
       "  <thead>\n",
       "    <tr style=\"text-align: right;\">\n",
       "      <th></th>\n",
       "      <th>Text</th>\n",
       "      <th>Class</th>\n",
       "    </tr>\n",
       "  </thead>\n",
       "  <tbody>\n",
       "    <tr>\n",
       "      <th>0</th>\n",
       "      <td>Supply Quality China's EXCLUSIVE dimensions at...</td>\n",
       "      <td>1</td>\n",
       "    </tr>\n",
       "    <tr>\n",
       "      <th>1</th>\n",
       "      <td>over. SidLet me know. Thx.</td>\n",
       "      <td>0</td>\n",
       "    </tr>\n",
       "    <tr>\n",
       "      <th>2</th>\n",
       "      <td>Dear Friend,Greetings to you.I wish to accost ...</td>\n",
       "      <td>1</td>\n",
       "    </tr>\n",
       "    <tr>\n",
       "      <th>3</th>\n",
       "      <td>MR. CHEUNG PUIHANG SENG BANK LTD.DES VOEUX RD....</td>\n",
       "      <td>1</td>\n",
       "    </tr>\n",
       "    <tr>\n",
       "      <th>4</th>\n",
       "      <td>Not a surprising assessment from Embassy.</td>\n",
       "      <td>0</td>\n",
       "    </tr>\n",
       "  </tbody>\n",
       "</table>\n",
       "</div>"
      ],
      "text/plain": [
       "                                                Text  Class\n",
       "0  Supply Quality China's EXCLUSIVE dimensions at...      1\n",
       "1                         over. SidLet me know. Thx.      0\n",
       "2  Dear Friend,Greetings to you.I wish to accost ...      1\n",
       "3  MR. CHEUNG PUIHANG SENG BANK LTD.DES VOEUX RD....      1\n",
       "4          Not a surprising assessment from Embassy.      0"
      ]
     },
     "execution_count": 7,
     "metadata": {},
     "output_type": "execute_result"
    }
   ],
   "source": [
    "kaggle_df = pd.read_csv(kaggle_path, encoding='utf-8')\n",
    "kaggle_df.head()"
   ]
  },
  {
   "cell_type": "code",
   "execution_count": 8,
   "metadata": {},
   "outputs": [
    {
     "data": {
      "text/html": [
       "<div>\n",
       "<style scoped>\n",
       "    .dataframe tbody tr th:only-of-type {\n",
       "        vertical-align: middle;\n",
       "    }\n",
       "\n",
       "    .dataframe tbody tr th {\n",
       "        vertical-align: top;\n",
       "    }\n",
       "\n",
       "    .dataframe thead th {\n",
       "        text-align: right;\n",
       "    }\n",
       "</style>\n",
       "<table border=\"1\" class=\"dataframe\">\n",
       "  <thead>\n",
       "    <tr style=\"text-align: right;\">\n",
       "      <th></th>\n",
       "      <th>Class</th>\n",
       "    </tr>\n",
       "  </thead>\n",
       "  <tbody>\n",
       "    <tr>\n",
       "      <th>count</th>\n",
       "      <td>11929.000000</td>\n",
       "    </tr>\n",
       "    <tr>\n",
       "      <th>mean</th>\n",
       "      <td>0.434823</td>\n",
       "    </tr>\n",
       "    <tr>\n",
       "      <th>std</th>\n",
       "      <td>0.495754</td>\n",
       "    </tr>\n",
       "    <tr>\n",
       "      <th>min</th>\n",
       "      <td>0.000000</td>\n",
       "    </tr>\n",
       "    <tr>\n",
       "      <th>25%</th>\n",
       "      <td>0.000000</td>\n",
       "    </tr>\n",
       "    <tr>\n",
       "      <th>50%</th>\n",
       "      <td>0.000000</td>\n",
       "    </tr>\n",
       "    <tr>\n",
       "      <th>75%</th>\n",
       "      <td>1.000000</td>\n",
       "    </tr>\n",
       "    <tr>\n",
       "      <th>max</th>\n",
       "      <td>1.000000</td>\n",
       "    </tr>\n",
       "  </tbody>\n",
       "</table>\n",
       "</div>"
      ],
      "text/plain": [
       "              Class\n",
       "count  11929.000000\n",
       "mean       0.434823\n",
       "std        0.495754\n",
       "min        0.000000\n",
       "25%        0.000000\n",
       "50%        0.000000\n",
       "75%        1.000000\n",
       "max        1.000000"
      ]
     },
     "execution_count": 8,
     "metadata": {},
     "output_type": "execute_result"
    }
   ],
   "source": [
    "kaggle_df.describe()"
   ]
  },
  {
   "cell_type": "code",
   "execution_count": 9,
   "metadata": {},
   "outputs": [],
   "source": [
    "text_np = kaggle_df['Text'].astype(str).to_numpy()\n",
    "# train_txt, test_txt = text_np[:int(len(text_np)*0.8)], text_np[int(len(text_np)*0.8):]"
   ]
  },
  {
   "cell_type": "code",
   "execution_count": 10,
   "metadata": {},
   "outputs": [
    {
     "data": {
      "text/plain": [
       "0        Supply Quality China's EXCLUSIVE dimensions at...\n",
       "1                               over. SidLet me know. Thx.\n",
       "2        Dear Friend,Greetings to you.I wish to accost ...\n",
       "3        MR. CHEUNG PUIHANG SENG BANK LTD.DES VOEUX RD....\n",
       "4                Not a surprising assessment from Embassy.\n",
       "                               ...                        \n",
       "11924    Travel well. I'll look forward to hearing your...\n",
       "11925    Dear friend, I wish to begin by way of introdu...\n",
       "11926    Follow Up Flag: Follow upFlag Status: FlaggedM...\n",
       "11927    sbwhoeop B6Saturday January 23 2010 4:09 PMRe:...\n",
       "11928    FYI. We are revising call sheet for call to Ka...\n",
       "Name: Text, Length: 11929, dtype: object"
      ]
     },
     "execution_count": 10,
     "metadata": {},
     "output_type": "execute_result"
    }
   ],
   "source": [
    "kaggle_df['Text'] = kaggle_df['Text'].apply(lambda x: str(x) if isinstance(x, str) else x)\n",
    "kaggle_df['Text']"
   ]
  },
  {
   "cell_type": "code",
   "execution_count": 13,
   "metadata": {},
   "outputs": [],
   "source": [
    "text_np = []\n",
    "label_np = []\n",
    "orig_text = kaggle_df['Text'].to_numpy()\n",
    "orig_label = kaggle_df['Class'].to_numpy()\n",
    "for i, text in enumerate(orig_text):\n",
    "    if type(text) == str:\n",
    "        text_np.append(text)\n",
    "        label_np.append(orig_label[i])\n",
    "text_np = np.array(text_np)\n",
    "label_np = np.array(label_np)\n"
   ]
  },
  {
   "cell_type": "code",
   "execution_count": 16,
   "metadata": {},
   "outputs": [
    {
     "name": "stdout",
     "output_type": "stream",
     "text": [
      "Input IDs:\n",
      " tensor([[  101,  4425,  3737,  ...,  1997,  9812,   102],\n",
      "        [  101,  2058,  1012,  ...,     0,     0,     0],\n",
      "        [  101,  6203,  2767,  ...,  2009,  1010,   102],\n",
      "        ...,\n",
      "        [  101,  3582,  2039,  ...,     0,     0,     0],\n",
      "        [  101, 24829,  2860,  ..., 10643,  3046,   102],\n",
      "        [  101,  1042, 10139,  ...,     0,     0,     0]])\n"
     ]
    }
   ],
   "source": [
    "from transformers import BertTokenizer\n",
    "import numpy as np\n",
    "import torch\n",
    "\n",
    "# Load the BERT tokenizer\n",
    "tokenizer = BertTokenizer.from_pretrained('bert-base-uncased')\n",
    "\n",
    "# Tokenize the sentences\n",
    "input_ids = []\n",
    "attention_masks = []\n",
    "\n",
    "for sentence in text_np:\n",
    "    encoded_dict = tokenizer.encode_plus(\n",
    "                        sentence,                      # Sentence to encode\n",
    "                        add_special_tokens = True,     # Add '[CLS]' and '[SEP]'\n",
    "                        max_length = 64,               # Pad & truncate all sentences.\n",
    "                        padding = 'max_length',\n",
    "                        truncation = True,\n",
    "                        return_attention_mask = True,  # Construct attn. masks.\n",
    "                        return_tensors = 'pt'          # Return pytorch tensors.\n",
    "                   )\n",
    "    \n",
    "    # Add the encoded sentence to the list\n",
    "    input_ids.append(encoded_dict['input_ids'])\n",
    "    \n",
    "    # Add its attention mask (differentiates padding from non-padding)\n",
    "    attention_masks.append(encoded_dict['attention_mask'])\n",
    "\n",
    "# Convert the lists to tensors\n",
    "input_ids = torch.cat(input_ids, dim=0)\n",
    "attention_masks = torch.cat(attention_masks, dim=0)\n",
    "\n",
    "# Print the encoded sentences\n",
    "print(\"Input IDs:\\n\", input_ids)"
   ]
  },
  {
   "cell_type": "code",
   "execution_count": 17,
   "metadata": {},
   "outputs": [
    {
     "name": "stderr",
     "output_type": "stream",
     "text": [
      "Some weights of the model checkpoint at bert-base-uncased were not used when initializing BertModel: ['cls.seq_relationship.weight', 'cls.predictions.transform.dense.bias', 'cls.predictions.transform.dense.weight', 'cls.predictions.bias', 'cls.predictions.decoder.weight', 'cls.predictions.transform.LayerNorm.bias', 'cls.seq_relationship.bias', 'cls.predictions.transform.LayerNorm.weight']\n",
      "- This IS expected if you are initializing BertModel from the checkpoint of a model trained on another task or with another architecture (e.g. initializing a BertForSequenceClassification model from a BertForPreTraining model).\n",
      "- This IS NOT expected if you are initializing BertModel from the checkpoint of a model that you expect to be exactly identical (initializing a BertForSequenceClassification model from a BertForSequenceClassification model).\n"
     ]
    },
    {
     "name": "stdout",
     "output_type": "stream",
     "text": [
      "tensor([[[-0.0720,  0.0785, -0.0230,  ..., -0.6062,  0.4007,  0.0155],\n",
      "         [ 0.1959, -0.1165,  0.4657,  ..., -0.2816,  0.5292,  0.1090],\n",
      "         [ 0.0668, -0.2880,  0.5972,  ..., -0.4028,  0.2332,  0.1278],\n",
      "         ...,\n",
      "         [-0.5414,  0.3113,  0.2904,  ..., -0.4755,  0.0379, -1.0177],\n",
      "         [-0.1821, -0.4495, -0.2900,  ..., -0.1531,  0.5506, -1.3873],\n",
      "         [ 0.5896,  0.0736, -0.2528,  ..., -0.3069, -0.4103, -0.2354]],\n",
      "\n",
      "        [[-0.2655, -0.1559,  0.6394,  ..., -0.5136,  0.2868,  0.7654],\n",
      "         [ 0.7003, -0.2258,  0.7779,  ..., -0.3866,  0.4659,  0.6049],\n",
      "         [-0.3132, -0.6611,  0.6402,  ...,  0.0217,  0.3639,  0.3035],\n",
      "         ...,\n",
      "         [ 0.2197, -0.0922,  0.8347,  ..., -0.0221,  0.0108,  0.2884],\n",
      "         [-0.0812, -0.1998,  0.9985,  ..., -0.0438,  0.0640,  0.3740],\n",
      "         [ 0.1776, -0.1862,  1.1277,  ..., -0.2804,  0.1428,  0.6102]],\n",
      "\n",
      "        [[-0.0615, -0.0929,  0.2170,  ..., -0.2440,  0.0712,  0.6325],\n",
      "         [ 0.5470,  0.6775,  0.5776,  ..., -0.3170, -0.0753,  0.0181],\n",
      "         [ 0.4787,  0.3485,  1.0499,  ...,  0.4086,  0.2971,  0.4517],\n",
      "         ...,\n",
      "         [ 0.1457, -0.6485,  0.3206,  ..., -0.2349, -0.0126,  0.4588],\n",
      "         [-0.1792,  0.0040, -0.2259,  ...,  0.1449, -0.1467, -0.0588],\n",
      "         [ 0.3790,  0.5551,  0.1172,  ...,  0.7409, -0.5415, -0.1790]],\n",
      "\n",
      "        ...,\n",
      "\n",
      "        [[-0.1108, -0.1178,  0.0329,  ..., -0.4243,  0.1275,  0.4486],\n",
      "         [ 0.5089,  0.0951,  0.0265,  ...,  0.3013,  0.6009, -0.3860],\n",
      "         [-0.2065, -0.4181, -0.0772,  ..., -0.1085,  0.6718, -0.1645],\n",
      "         ...,\n",
      "         [-0.0767, -0.2516,  0.2687,  ..., -0.1056, -0.1983,  0.0663],\n",
      "         [-0.0107, -0.2705,  0.3180,  ..., -0.0691, -0.0289, -0.0972],\n",
      "         [ 0.0775, -0.5284,  0.1981,  ..., -0.0523,  0.0271,  0.0112]],\n",
      "\n",
      "        [[ 0.0661, -0.1689, -0.2106,  ..., -0.2322,  0.4203,  0.5190],\n",
      "         [ 1.0179, -0.2082,  0.2934,  ..., -0.1386,  0.5979,  0.7029],\n",
      "         [-0.1602,  0.5951,  1.2244,  ..., -0.0377, -0.0054, -0.4938],\n",
      "         ...,\n",
      "         [-0.3959, -0.6456,  0.6418,  ..., -0.3141, -0.1599, -0.1325],\n",
      "         [ 0.2511, -0.2523, -0.3618,  ...,  0.1944,  0.1386, -0.1236],\n",
      "         [ 0.3288,  0.6580,  0.0308,  ..., -0.2293, -0.3352,  0.1260]],\n",
      "\n",
      "        [[-0.3969,  0.0669,  0.6251,  ..., -0.1425,  0.9190,  0.3629],\n",
      "         [ 0.6273,  0.3005,  0.4063,  ...,  0.3971,  0.9501,  0.4237],\n",
      "         [ 0.8007, -0.1194,  0.9703,  ..., -0.0972,  0.4579,  0.2392],\n",
      "         ...,\n",
      "         [-0.2213,  0.0506,  0.3959,  ...,  0.0850,  0.3554, -0.0582],\n",
      "         [ 0.0884, -0.1391,  0.3786,  ..., -0.0424,  0.2847, -0.0866],\n",
      "         [ 0.0483, -0.2499,  0.4590,  ...,  0.0137,  0.2549, -0.0966]]],\n",
      "       grad_fn=<NativeLayerNormBackward0>)\n"
     ]
    }
   ],
   "source": [
    "from transformers import BertModel\n",
    "\n",
    "# Load the BERT model\n",
    "model = BertModel.from_pretrained('bert-base-uncased')\n",
    "\n",
    "# Pass the input tensors through the BERT model\n",
    "outputs = model(input_ids=input_ids, attention_mask=attention_masks)\n",
    "\n",
    "# Print the final hidden states of the last layer of the model\n",
    "last_hidden_states = outputs.last_hidden_state\n",
    "print(last_hidden_states)"
   ]
  },
  {
   "cell_type": "code",
   "execution_count": 18,
   "metadata": {},
   "outputs": [],
   "source": [
    "torch.save(last_hidden_states, 'kaggle_hidden_states.pt')\n",
    "torch.save(label_np, 'kaggle_labels.pt')"
   ]
  },
  {
   "cell_type": "code",
   "execution_count": 19,
   "metadata": {},
   "outputs": [],
   "source": [
    "# input_ids[:100, :].shape, attention_masks[:100, :].shape, last_hidden_states.shape\n",
    "# Until this step, we are able to get the last hidden states"
   ]
  },
  {
   "cell_type": "code",
   "execution_count": null,
   "metadata": {},
   "outputs": [],
   "source": [
    "# labels = kaggle_df['Class'].to_numpy()"
   ]
  },
  {
   "cell_type": "code",
   "execution_count": null,
   "metadata": {},
   "outputs": [
    {
     "data": {
      "text/plain": [
       "(11929,)"
      ]
     },
     "execution_count": 21,
     "metadata": {},
     "output_type": "execute_result"
    }
   ],
   "source": [
    "kaggle_df['Class'].to_numpy().shape "
   ]
  },
  {
   "cell_type": "code",
   "execution_count": null,
   "metadata": {},
   "outputs": [],
   "source": []
  }
 ],
 "metadata": {
  "kernelspec": {
   "display_name": "torch",
   "language": "python",
   "name": "python3"
  },
  "language_info": {
   "codemirror_mode": {
    "name": "ipython",
    "version": 3
   },
   "file_extension": ".py",
   "mimetype": "text/x-python",
   "name": "python",
   "nbconvert_exporter": "python",
   "pygments_lexer": "ipython3",
   "version": "3.9.15"
  },
  "orig_nbformat": 4
 },
 "nbformat": 4,
 "nbformat_minor": 2
}
