{
 "cells": [
  {
   "attachments": {},
   "cell_type": "markdown",
   "metadata": {},
   "source": [
    "## Examine the dataset with Pandas "
   ]
  },
  {
   "cell_type": "code",
   "execution_count": 3,
   "metadata": {},
   "outputs": [],
   "source": [
    "import pandas as pd\n",
    "import numpy as np\n",
    "import matplotlib.pyplot as plt\n",
    "\n",
    "folder_path = \"fraud_emails\"\n",
    "csv_path = \"personal_fraud_email.csv\""
   ]
  },
  {
   "cell_type": "code",
   "execution_count": 4,
   "metadata": {},
   "outputs": [],
   "source": [
    "p_df = pd.read_csv(csv_path)"
   ]
  },
  {
   "cell_type": "code",
   "execution_count": 9,
   "metadata": {},
   "outputs": [
    {
     "data": {
      "text/html": [
       "<div>\n",
       "<style scoped>\n",
       "    .dataframe tbody tr th:only-of-type {\n",
       "        vertical-align: middle;\n",
       "    }\n",
       "\n",
       "    .dataframe tbody tr th {\n",
       "        vertical-align: top;\n",
       "    }\n",
       "\n",
       "    .dataframe thead th {\n",
       "        text-align: right;\n",
       "    }\n",
       "</style>\n",
       "<table border=\"1\" class=\"dataframe\">\n",
       "  <thead>\n",
       "    <tr style=\"text-align: right;\">\n",
       "      <th></th>\n",
       "      <th>Sender</th>\n",
       "      <th>Raw</th>\n",
       "      <th>Fraud</th>\n",
       "    </tr>\n",
       "  </thead>\n",
       "  <tbody>\n",
       "    <tr>\n",
       "      <th>0</th>\n",
       "      <td>\"ABC Shark Tank\" &lt;A@gaobie.fathetic.com&gt;</td>\n",
       "      <td>Received: from 10.217.135.43\\n by atlas108.fre...</td>\n",
       "      <td>1</td>\n",
       "    </tr>\n",
       "    <tr>\n",
       "      <th>1</th>\n",
       "      <td>\"ABC Shark Tank\" &lt;A@herz.fathetic.com&gt;</td>\n",
       "      <td>Received: from 127.0.0.1\\n by atlas-production...</td>\n",
       "      <td>1</td>\n",
       "    </tr>\n",
       "    <tr>\n",
       "      <th>2</th>\n",
       "      <td>\"ABC Shark Tank\" &lt;A@suipo.gangoulionectomy.com&gt;</td>\n",
       "      <td>Received: from 10.196.241.214\\n by atlas302.fr...</td>\n",
       "      <td>1</td>\n",
       "    </tr>\n",
       "    <tr>\n",
       "      <th>3</th>\n",
       "      <td>\"%% Nicknguyen3 Camplejeunesuit %%\" &lt;utjnwaDhM...</td>\n",
       "      <td>Received: from 127.0.0.1\\n by atlas-production...</td>\n",
       "      <td>1</td>\n",
       "    </tr>\n",
       "    <tr>\n",
       "      <th>4</th>\n",
       "      <td>\"PROGRESSIVE\" &lt;A@kudoke.iguanopy.com&gt;</td>\n",
       "      <td>Received: from 10.197.37.9\\n by atlas306.free....</td>\n",
       "      <td>1</td>\n",
       "    </tr>\n",
       "  </tbody>\n",
       "</table>\n",
       "</div>"
      ],
      "text/plain": [
       "                                              Sender  \\\n",
       "0           \"ABC Shark Tank\" <A@gaobie.fathetic.com>   \n",
       "1             \"ABC Shark Tank\" <A@herz.fathetic.com>   \n",
       "2    \"ABC Shark Tank\" <A@suipo.gangoulionectomy.com>   \n",
       "3  \"%% Nicknguyen3 Camplejeunesuit %%\" <utjnwaDhM...   \n",
       "4              \"PROGRESSIVE\" <A@kudoke.iguanopy.com>   \n",
       "\n",
       "                                                 Raw  Fraud  \n",
       "0  Received: from 10.217.135.43\\n by atlas108.fre...      1  \n",
       "1  Received: from 127.0.0.1\\n by atlas-production...      1  \n",
       "2  Received: from 10.196.241.214\\n by atlas302.fr...      1  \n",
       "3  Received: from 127.0.0.1\\n by atlas-production...      1  \n",
       "4  Received: from 10.197.37.9\\n by atlas306.free....      1  "
      ]
     },
     "execution_count": 9,
     "metadata": {},
     "output_type": "execute_result"
    }
   ],
   "source": [
    "p_df.head()"
   ]
  },
  {
   "cell_type": "code",
   "execution_count": 11,
   "metadata": {},
   "outputs": [
    {
     "data": {
      "text/plain": [
       "'Received: from 10.217.135.43\\n by atlas108.free.mail.ne1.yahoo.com with HTTPS; Fri, 23 Sep 2022 20:36:13 +0000\\nReceived: from 81.95.5.156 (EHLO gaobie.fathetic.com)\\n by 10.217.135.43 with SMTP;\\n Fri, 23 Sep 2022 20:36:13 +0000\\nFrom: \"ABC Shark Tank\" <A@gaobie.fathetic.com>\\nTo: <nicknguyen3@yahoo.com>\\nSubject: #1 Weight Loss Supplement ever\\nDate: Fri, 23 Sep 2022 15:36:13 -0500\\nMessage-ID: <724141433_848235704_895257853@gaobie.fathetic.com>\\nMIME-Version: 1.0\\nContent-Type: multipart/alternative;\\n\\tboundary=\"----=_NextPart_000_0AF5_01D8D2AF.71BEF780\"\\nX-Mailer: Microsoft Outlook 16.0\\nX-Originating-Ip: [81.95.5.156]\\nX-Originating-Ip: 81.95.5.156\\nAuthentication-Results: atlas108.free.mail.ne1.yahoo.com;\\n dkim=unknown;\\n spf=pass smtp.mailfrom=gaobie.fathetic.com;\\n dmarc=unknown header.from=gaobie.fathetic.com;\\nX-Apparently-To: nicknguyen3@yahoo.com; Fri, 23 Sep 2022 20:36:14 +0000\\nX-YMailISG: FDq_T_4WLDszG_9ocF2vWzkKzKZoMDdJEJDLnUIDgjBjN48W\\n jTYYWaWPjVmt1I.ylZ1R.b3aqC8rV2ij3F1Mdds5xP1AeyYOmS1vGg87LP0N\\n ZxZC8NX5Ga7g6GtC.dvFJ7tVzw7M0TjU0IBDTpAgndZUrOLwqlBIPGG5RXmG\\n J1uZUtuqEO5_HYqIDB47vDIOsARY4vtVGImffFqJFRJqM3S75qwcPSBcgZJz\\n _Vq22d3y0SvybmrOmH2ke27DLyPEqivFpU2xJMJJzlT0A_kNlw0EmLr4Trhc\\n u9qMQJd7BeV12TIspllYU5RxE5F6Cv22BwvIu3h8IPkXbm8gC5ZkqlMr7hwK\\n wGnJYcJ4RC_38Q.br.4Bs1sw.pbAtqarU8ZJEE6WuiBpozWEJ.Am1ezCz9Lg\\n o_v4T3TmWFIcV0YX5aD2VdlT9nbYeV3HWRNngwaMUyh55rIpzLl.adlEDCTT\\n yM2.Z4RMSX1c7rIoQQTy6IYnX_Pe3f3yLO4p79lmlFz0jnIVETN6dSUK88J_\\n FNbykLfQY5LhqPh8yBxJcdwOX9462f1dM55gWsWkYFOwUTcCJfx7DgppTKSw\\n s3P2u6wOkjeHxz6uCrQ1dvaJA4oCbtLtljoDZXVnTU1giGlC.1AP5EUqyAaS\\n A0lcPtFI2knmE7x7cdemiXMAXQlubRi24_h5c1ETbKvHBMhFQE4iKDA9jMyB\\n HJHKCzrKk3JnZ6guuiuHSyLaZYHMX2rWUd_RnQ_ikHAhPv3ZTnX_JzCAv2LZ\\n wHv773fW4PtJ8kuPkrybZdneOtsKhkuCANyU4u6ItKIQGhzZHH.XjgXwRA3B\\n x1B._6F1Ykx6wu1_KCPikNl5Xdpqtd7IF4xUOMc8vgglxfsXq0Oh4.x4CJ7K\\n mgTqrdb3AM5Gw19i_.kslBXr6tX1l03g3OvpmbpIIln8W7A1UgLsXVylrczb\\n p6OF\\n\\trKCMsdymV1W5Xp8IuQ.h7qti8mfjUzTS.dqqAxWcLsWg5_P10X.Iamuq\\n ms._3VSlFG75ZoMd_tGxI3GayJg35nNlrnND_q4Ae2O3yHW0mcS3WzhtOmCJ\\n EvcZiF81n0Pjm2qT1HeF4A0I5xuVvPrJOPy4Z8iU_yTPHPncjM1eLyU8zMXN\\n vFUsdRREjzkHe5UPdQrZcQY4x6e896hbQC8lu6DtjjJ4H_2QWet_t4j_9jEX\\n 7Ufv_RwO0Q--\\nThread-Index: AQG4L7q7Lrr/mtPeMSRR2n2N8gzSyg==\\nX-OlkEid: 00000000C845D6B803DDF243A071803957DEFC26070034AD76187591974DBF6C4F76951C873A01000100000000003C926B4CE2E4194EBF40FC36E06EB2760000000068EF00003AF73326F97A6E4A8822113B6BAD5949\\nContent-Length: 2611\\n\\nThis is a multipart message in MIME format.\\n\\n------=_NextPart_000_0AF5_01D8D2AF.71BEF780\\nContent-Type: text/plain;\\n\\tcharset=\"us-ascii\"\\nContent-Transfer-Encoding: 7bit\\n\\n \\n<http://efferench.com/sssswcirect.html?od=1syr632e13acce298_vl_Active16vl_\\n1481.5dopn4.O0000rgepb01kno021_xf1448.gepb0MDNxMzlnLTE4bHUxY3M0a1MfO> \\n\\n\\n\\nShark Tank Weight Loss\\n\\n\\nNo Diet or Exercise AND Still Lose Weight \\n\\n\\n\\n#1 Weight Loss Supplement ever\\n\\n\\n\\nTry KETO Today!\\n\\n\\n\\n  <http://efferench.com/39/231/99917/MDeGbndjMx.jpg> \\n\\n \\n<http://efferench.com/sssswcirect.html?od=8syr632e13acce298_vl_Active16vl_\\n1481.5dopn4.O0000rgepb01kno021_xf1448.gepb0MDNxMzlnLTE4bHUxY3M0r5djf> \\n\\n\\n\\n------=_NextPart_000_0AF5_01D8D2AF.71BEF780\\nContent-Type: text/html;\\n\\tcharset=\"us-ascii\"\\nContent-Transfer-Encoding: quoted-printable\\n\\n<html>\\n<body>\\n\\t<center>\\n\\t\\t<a =\\nhref=3D\"http://efferench.com/sssswcirect.html?od=3D1syr632e13acce298_vl_A=\\nctive16vl_1481.5dopn4.O0000rgepb01kno021_xf1448.gepb0MDNxMzlnLTE4bHUxY3M0=\\na1MfO\" >\\n\\t\\t\\t\\t\\t\\t<h2><center>\\n<style>A {text-decoration: none;} </style>\\n<a href=3D\"\">\\n<h1 style=3D\"font-family: Segoe UI;font-weight: 100;color: =\\n#000;font-size: 35px;text-decoration: underline;\">\\nShark Tank Weight Loss</h1><h1 style=3D\"font: 59px Impact, Charcoal, =\\nsans-serif;color: #b9017a;margin: auto;\">\\nNo Diet or Exercise AND Still Lose Weight\\n <br>\\n <span style=3D\"color: #003e69;\">\\n </span>\\n</h1>\\n<h1 style=3D\"font-family: Segoe UI;font-size: 24px;margin: auto;color: =\\n#000;\">\\n#1 Weight Loss Supplement ever</h1>\\n<br>\\n<h1 style=3D\"font-family: calibri;color: #FFF;background-color: =\\n#b9017a;width: 300px;border-radius: 4px;border-bottom: 3px solid =\\n#6888B1;margin: auto;\">\\nTry KETO Today!</h1></div></a>\\n<br></h2>\\n\\t\\t</a>\\n\\t\\t<br />\\n\\t\\t<img src=3D\"http://efferench.com/39/231/99917/MDeGbndjMx.jpg\" =\\nheight=3D\"768\" width=3D\"725\" useMap=3D\"#Nzkf\" border=3D\"0\" >\\n\\t\\t<map name=3D\"Nzkf\"><br />\\n\\t\\t\\t<area shape=3D\"rect\" coords=3D\"0, 0, 725, 768\" =\\nhref=3D\"http://efferench.com/sssswcirect.html?od=3D1syr632e13acce298_vl_A=\\nctive16vl_1481.5dopn4.O0000rgepb01kno021_xf1448.gepb0MDNxMzlnLTE4bHUxY3M0=\\na1MfO\" >\\n\\t\\t</map>\\n\\t\\t<br />\\n\\t\\t<img =\\nsrc=3D\"http://efferench.com/sssswcirect.html?od=3D8syr632e13acce298_vl_Ac=\\ntive16vl_1481.5dopn4.O0000rgepb01kno021_xf1448.gepb0MDNxMzlnLTE4bHUxY3M0r=\\n5djf\" usemap=3D\"#MI9S\" border=3D\"0\" >\\n\\t\\t<map name=3D\"MI9S\">\\n\\t\\t\\t<area shape=3D\"rect\" coords=3D\"082,27,428,93\" =\\nhref=3D\"http://efferench.com/sssswcirect.html?od=3D1syr632e13acce298t0t_o=\\nutvl_Active16.5dopn4.O0000rgepb01kno021_xf1448.gepb0MDNxMzlnLTE4bHUxY3M0m=\\n4NPa\" >\\n\\t\\t</map>\\n\\t\\t<br />\\n\\t</center>\\n</body>\\n</html>\\n\\n------=_NextPart_000_0AF5_01D8D2AF.71BEF780--\\n'"
      ]
     },
     "execution_count": 11,
     "metadata": {},
     "output_type": "execute_result"
    }
   ],
   "source": [
    "p_df['Raw'][0]"
   ]
  }
 ],
 "metadata": {
  "kernelspec": {
   "display_name": "torch",
   "language": "python",
   "name": "python3"
  },
  "language_info": {
   "codemirror_mode": {
    "name": "ipython",
    "version": 3
   },
   "file_extension": ".py",
   "mimetype": "text/x-python",
   "name": "python",
   "nbconvert_exporter": "python",
   "pygments_lexer": "ipython3",
   "version": "3.9.15"
  },
  "orig_nbformat": 4
 },
 "nbformat": 4,
 "nbformat_minor": 2
}
