{
 "cells": [
  {
   "attachments": {},
   "cell_type": "markdown",
   "metadata": {},
   "source": [
    "## Pretrain a model that classifies fraudulent emails"
   ]
  },
  {
   "cell_type": "code",
   "execution_count": 13,
   "metadata": {},
   "outputs": [],
   "source": [
    "import pandas as pd\n",
    "import numpy as np\n",
    "import matplotlib.pyplot as plt\n",
    "import torch\n",
    "import torch.nn as nn"
   ]
  },
  {
   "cell_type": "code",
   "execution_count": 14,
   "metadata": {},
   "outputs": [
    {
     "name": "stdout",
     "output_type": "stream",
     "text": [
      "kaggle_pt.shape: torch.Size([11928, 64, 768]), labels_pt.shape: torch.Size([11928])\n"
     ]
    }
   ],
   "source": [
    "kaggle_pt = torch.load('kaggle_hidden_states.pt').float()\n",
    "labels_pt = torch.from_numpy(np.array(torch.load('kaggle_labels.pt'))).float()\n",
    "print(f\"kaggle_pt.shape: {kaggle_pt.shape}, labels_pt.shape: {labels_pt.shape}\")"
   ]
  },
  {
   "attachments": {},
   "cell_type": "markdown",
   "metadata": {},
   "source": [
    "`kaggle_pt` represents the kaggle hidden states observed by the pre-trained BERT model\n",
    "\n",
    "With the shape of [n, 64, 768]"
   ]
  },
  {
   "cell_type": "code",
   "execution_count": 5,
   "metadata": {},
   "outputs": [],
   "source": [
    "import torch\n",
    "import torch.nn as nn\n",
    "import torch.optim as optim\n",
    "import torch.nn.functional as F\n",
    "\n",
    "class MLP(nn.Module):\n",
    "    def __init__(self, dropout_rate=0.2):\n",
    "        super(MLP, self).__init__()\n",
    "        self.conv1 = nn.Conv1d(in_channels=64, out_channels=32, kernel_size=3, dilation=2)\n",
    "        self.fc1 = nn.Linear(32 * 382, 512)\n",
    "        self.bn1 = nn.BatchNorm1d(512)\n",
    "        self.dropout1 = nn.Dropout(p=dropout_rate)\n",
    "        self.fc2 = nn.Linear(512, 64)\n",
    "        self.bn2 = nn.BatchNorm1d(64)\n",
    "        self.dropout2 = nn.Dropout(p=dropout_rate)\n",
    "        self.fc3 = nn.Linear(64, 1)\n",
    "        self.sigmoid = nn.Sigmoid()\n",
    "\n",
    "    def forward(self, x):\n",
    "        x = self.conv1(x)\n",
    "        x = F.relu(x)\n",
    "        x = F.max_pool1d(x, kernel_size=2)  # Add max pooling layer\n",
    "        x = x.view(-1, 32 * 382)\n",
    "        x = self.fc1(x)\n",
    "        x = self.bn1(x)\n",
    "        x = F.relu(x)\n",
    "        x = self.dropout1(x)\n",
    "        x = self.fc2(x)\n",
    "        x = self.bn2(x)\n",
    "        x = F.relu(x)\n",
    "        x = self.dropout2(x)\n",
    "        output = self.fc3(x)\n",
    "        output = self.sigmoid(output)\n",
    "        return output.squeeze(dim=1)"
   ]
  },
  {
   "cell_type": "code",
   "execution_count": 10,
   "metadata": {},
   "outputs": [],
   "source": [
    "cuda_device = \"cuda:3\"\n",
    "# define your model\n",
    "model = MLP().to(cuda_device)\n",
    "# define your loss function\n",
    "criterion = nn.BCELoss()\n",
    "# define your optimizer\n",
    "optimizer = optim.Adam(model.parameters(), lr=1e-4)"
   ]
  },
  {
   "cell_type": "code",
   "execution_count": 26,
   "metadata": {},
   "outputs": [],
   "source": [
    "# kaggle_pt[:32].shape, labels_pt[:32].shape, model(kaggle_pt[:32]).shape\n",
    "# loss = criterion(model(kaggle_pt[:32]), labels_pt[:32].float())\n",
    "# loss.item()"
   ]
  },
  {
   "cell_type": "code",
   "execution_count": 29,
   "metadata": {},
   "outputs": [],
   "source": [
    "from sklearn.model_selection import train_test_split\n",
    "from tqdm.notebook import tqdm\n",
    "from sklearn.metrics import f1_score, roc_auc_score, average_precision_score\n",
    "def train(model, inputs, labels, optimizer, criterion, epochs, batch_size):\n",
    "    # split data into training and validation sets\n",
    "    X_train, X_val, y_train, y_val = train_test_split(\n",
    "        inputs, labels, test_size=0.7, random_state=12\n",
    "    )\n",
    "\n",
    "    num_train_samples = X_train.shape[0]\n",
    "    num_val_samples = X_val.shape[0]\n",
    "\n",
    "    num_train_batches = num_train_samples // batch_size\n",
    "    num_val_batches = num_val_samples // batch_size\n",
    "\n",
    "    for epoch in tqdm(range(epochs), desc=\"Epochs\", ascii=True):\n",
    "        train_loss = 0.0\n",
    "        val_loss = 0.0\n",
    "\n",
    "        # loop over training batches\n",
    "        for i in range(num_train_batches):\n",
    "            start_idx = i * batch_size\n",
    "            end_idx = (i + 1) * batch_size\n",
    "\n",
    "            # get the current batch\n",
    "            batch_inputs = X_train[start_idx:end_idx].to(cuda_device)\n",
    "            batch_labels = y_train[start_idx:end_idx].to(cuda_device)\n",
    "\n",
    "            optimizer.zero_grad()\n",
    "            outputs = model(batch_inputs)\n",
    "            loss = criterion(outputs, batch_labels)\n",
    "            loss.backward(retain_graph=True)  # add retain_graph=True here\n",
    "            optimizer.step()\n",
    "            with torch.no_grad():\n",
    "                train_loss += loss.item()\n",
    "\n",
    "        # loop over validation batches\n",
    "        for i in range(num_val_batches):\n",
    "            start_idx = i * batch_size\n",
    "            end_idx = (i + 1) * batch_size\n",
    "\n",
    "            # get the current batch\n",
    "            batch_inputs = X_val[start_idx:end_idx].to(cuda_device)\n",
    "            batch_labels = y_val[start_idx:end_idx].to(cuda_device)\n",
    "\n",
    "            # evaluate the model on validation set\n",
    "            with torch.no_grad():\n",
    "                outputs = model(batch_inputs)\n",
    "                loss = criterion(outputs, batch_labels)\n",
    "                val_loss += loss.item()\n",
    "\n",
    "        train_loss /= num_train_batches\n",
    "        val_loss /= num_val_batches\n",
    "\n",
    "        if epoch % 1 == 0:\n",
    "            # get the predictions on the training set and calculate f1 score\n",
    "            with torch.no_grad():\n",
    "                train_preds = model(X_train.to(cuda_device)).cpu().numpy()\n",
    "                train_f1 = f1_score(\n",
    "                    y_train.cpu().numpy(), (train_preds >= 0.5).astype(int)\n",
    "                )\n",
    "\n",
    "            # get the predictions on the validation set and calculate f1 score, auc roc, and auc pr\n",
    "            with torch.no_grad():\n",
    "                val_preds = model(X_val.to(cuda_device)).cpu().numpy()\n",
    "                val_f1 = f1_score(y_val.cpu().numpy(), (val_preds >= 0.5).astype(int))\n",
    "                val_auc_roc = roc_auc_score(y_val.cpu().numpy(), val_preds)\n",
    "                val_auc_pr = average_precision_score(y_val.cpu().numpy(), val_preds)\n",
    "\n",
    "            tqdm.write(\n",
    "                f\"Epoch: {epoch+1}, Train BCE Loss: {train_loss:.2f}, \"\n",
    "                + f\"Val BCE Loss: {val_loss:.2f}, F1 Score: {train_f1:.2f}/{val_f1:.2f}, \"\n",
    "                + f\"AUC ROC: {val_auc_roc:.2f}, AUC PR: {val_auc_pr:.2f}\"\n",
    "            )\n"
   ]
  },
  {
   "cell_type": "code",
   "execution_count": null,
   "metadata": {},
   "outputs": [],
   "source": [
    "# train your model for 100 epochs\n",
    "train(model, kaggle_pt, labels_pt, optimizer, criterion, epochs=100, batch_size=256)"
   ]
  },
  {
   "cell_type": "code",
   "execution_count": 10,
   "metadata": {},
   "outputs": [
    {
     "data": {
      "text/plain": [
       "(torch.Size([11928, 64, 768]), (11928,))"
      ]
     },
     "execution_count": 10,
     "metadata": {},
     "output_type": "execute_result"
    }
   ],
   "source": [
    "kaggle_pt.shape, labels_pt.shape"
   ]
  },
  {
   "attachments": {},
   "cell_type": "markdown",
   "metadata": {},
   "source": [
    "## Now we retrain for the personal model"
   ]
  },
  {
   "cell_type": "code",
   "execution_count": 15,
   "metadata": {},
   "outputs": [],
   "source": [
    "import torch\n",
    "pre_trained_model = torch.load('pre-trained model with kaggle.pt')\n",
    "cuda_device = \"cuda:3\"\n",
    "# define your model\n",
    "pre_trained_model = pre_trained_model.to(cuda_device)\n",
    "# define your loss function\n",
    "criterion = nn.BCELoss()\n",
    "# define your optimizer\n",
    "optimizer = optim.Adam(pre_trained_model.parameters(), lr=1e-4)"
   ]
  },
  {
   "cell_type": "code",
   "execution_count": 16,
   "metadata": {},
   "outputs": [
    {
     "name": "stdout",
     "output_type": "stream",
     "text": [
      "personal_pt.shape: torch.Size([251, 64, 768]), labels_pt.shape: torch.Size([251])\n"
     ]
    }
   ],
   "source": [
    "personal_pt = torch.load('personal_hidden_states.pt').float()\n",
    "labels_pt = torch.from_numpy(np.array(torch.load('personal_labels.pt'))).float()\n",
    "print(f\"personal_pt.shape: {personal_pt.shape}, labels_pt.shape: {labels_pt.shape}\")"
   ]
  },
  {
   "cell_type": "code",
   "execution_count": 1,
   "metadata": {},
   "outputs": [],
   "source": [
    "from transformers import BertTokenizer\n",
    "import numpy as np\n",
    "import torch\n",
    "from transformers import BertModel\n",
    "\n",
    "def encode_text(text_np):\n",
    "    # Load the BERT tokenizer\n",
    "    tokenizer = BertTokenizer.from_pretrained('bert-base-uncased')\n",
    "\n",
    "    # Tokenize the sentences\n",
    "    input_ids = []\n",
    "    attention_masks = []\n",
    "\n",
    "    for sentence in text_np:\n",
    "        encoded_dict = tokenizer.encode_plus(\n",
    "                            sentence,                      # Sentence to encode\n",
    "                            add_special_tokens = True,     # Add '[CLS]' and '[SEP]'\n",
    "                            max_length = 64,               # Pad & truncate all sentences.\n",
    "                            padding = 'max_length',\n",
    "                            truncation = True,\n",
    "                            return_attention_mask = True,  # Construct attn. masks.\n",
    "                            return_tensors = 'pt'          # Return pytorch tensors.\n",
    "                    )\n",
    "        \n",
    "        # Add the encoded sentence to the list\n",
    "        input_ids.append(encoded_dict['input_ids'])\n",
    "        \n",
    "        # Add its attention mask (differentiates padding from non-padding)\n",
    "        attention_masks.append(encoded_dict['attention_mask'])\n",
    "\n",
    "    # Convert the lists to tensors\n",
    "    input_ids = torch.cat(input_ids, dim=0)\n",
    "    attention_masks = torch.cat(attention_masks, dim=0)\n",
    "    # Load the BERT model\n",
    "    model = BertModel.from_pretrained('bert-base-uncased')\n",
    "    # Pass the input tensors through the BERT model\n",
    "    outputs = model(input_ids=input_ids, attention_mask=attention_masks)\n",
    "    return outputs.last_hidden_state"
   ]
  },
  {
   "cell_type": "code",
   "execution_count": 30,
   "metadata": {},
   "outputs": [
    {
     "data": {
      "application/vnd.jupyter.widget-view+json": {
       "model_id": "61542adc9fa5492dbfede3536171b4ab",
       "version_major": 2,
       "version_minor": 0
      },
      "text/plain": [
       "Epochs:   0%|          | 0/15 [00:00<?, ?it/s]"
      ]
     },
     "metadata": {},
     "output_type": "display_data"
    },
    {
     "name": "stdout",
     "output_type": "stream",
     "text": [
      "Epoch: 1, Train BCE Loss: 0.00, Val BCE Loss: 0.00, F1 Score: 1.00/1.00, AUC ROC: 1.00, AUC PR: 1.00\n",
      "Epoch: 2, Train BCE Loss: 0.00, Val BCE Loss: 0.00, F1 Score: 1.00/1.00, AUC ROC: 1.00, AUC PR: 1.00\n",
      "Epoch: 3, Train BCE Loss: 0.00, Val BCE Loss: 0.00, F1 Score: 1.00/1.00, AUC ROC: 1.00, AUC PR: 1.00\n",
      "Epoch: 4, Train BCE Loss: 0.00, Val BCE Loss: 0.00, F1 Score: 1.00/1.00, AUC ROC: 1.00, AUC PR: 1.00\n",
      "Epoch: 5, Train BCE Loss: 0.00, Val BCE Loss: 0.00, F1 Score: 1.00/1.00, AUC ROC: 1.00, AUC PR: 1.00\n",
      "Epoch: 6, Train BCE Loss: 0.00, Val BCE Loss: 0.00, F1 Score: 1.00/1.00, AUC ROC: 1.00, AUC PR: 1.00\n",
      "Epoch: 7, Train BCE Loss: 0.00, Val BCE Loss: 0.00, F1 Score: 1.00/1.00, AUC ROC: 1.00, AUC PR: 1.00\n",
      "Epoch: 8, Train BCE Loss: 0.00, Val BCE Loss: 0.00, F1 Score: 1.00/1.00, AUC ROC: 1.00, AUC PR: 1.00\n",
      "Epoch: 9, Train BCE Loss: 0.00, Val BCE Loss: 0.00, F1 Score: 1.00/1.00, AUC ROC: 1.00, AUC PR: 1.00\n",
      "Epoch: 10, Train BCE Loss: 0.00, Val BCE Loss: 0.00, F1 Score: 1.00/1.00, AUC ROC: 1.00, AUC PR: 1.00\n",
      "Epoch: 11, Train BCE Loss: 0.00, Val BCE Loss: 0.00, F1 Score: 1.00/1.00, AUC ROC: 1.00, AUC PR: 1.00\n",
      "Epoch: 12, Train BCE Loss: 0.00, Val BCE Loss: 0.00, F1 Score: 1.00/1.00, AUC ROC: 1.00, AUC PR: 1.00\n",
      "Epoch: 13, Train BCE Loss: 0.00, Val BCE Loss: 0.00, F1 Score: 1.00/1.00, AUC ROC: 1.00, AUC PR: 1.00\n",
      "Epoch: 14, Train BCE Loss: 0.00, Val BCE Loss: 0.00, F1 Score: 1.00/1.00, AUC ROC: 1.00, AUC PR: 1.00\n",
      "Epoch: 15, Train BCE Loss: 0.00, Val BCE Loss: 0.00, F1 Score: 1.00/1.00, AUC ROC: 1.00, AUC PR: 1.00\n"
     ]
    }
   ],
   "source": [
    "train(pre_trained_model, personal_pt, labels_pt, optimizer, criterion, epochs=15, batch_size=8)"
   ]
  },
  {
   "cell_type": "code",
   "execution_count": 19,
   "metadata": {},
   "outputs": [],
   "source": [
    "asd = torch.load('kaggle_labels.pt')"
   ]
  },
  {
   "cell_type": "code",
   "execution_count": 21,
   "metadata": {},
   "outputs": [
    {
     "data": {
      "text/plain": [
       "(5186, 11928, 0.4347753185781355)"
      ]
     },
     "execution_count": 21,
     "metadata": {},
     "output_type": "execute_result"
    }
   ],
   "source": [
    "sum(asd), len(asd), sum(asd)/len(asd)"
   ]
  },
  {
   "cell_type": "code",
   "execution_count": 31,
   "metadata": {},
   "outputs": [
    {
     "data": {
      "text/plain": [
       "(tensor(135.), 251, tensor(0.5378))"
      ]
     },
     "execution_count": 31,
     "metadata": {},
     "output_type": "execute_result"
    }
   ],
   "source": [
    "sum(labels_pt), len(labels_pt), sum(labels_pt)/len(labels_pt)"
   ]
  },
  {
   "cell_type": "code",
   "execution_count": null,
   "metadata": {},
   "outputs": [],
   "source": []
  }
 ],
 "metadata": {
  "kernelspec": {
   "display_name": "torch",
   "language": "python",
   "name": "python3"
  },
  "language_info": {
   "codemirror_mode": {
    "name": "ipython",
    "version": 3
   },
   "file_extension": ".py",
   "mimetype": "text/x-python",
   "name": "python",
   "nbconvert_exporter": "python",
   "pygments_lexer": "ipython3",
   "version": "3.9.15"
  },
  "orig_nbformat": 4
 },
 "nbformat": 4,
 "nbformat_minor": 2
}
